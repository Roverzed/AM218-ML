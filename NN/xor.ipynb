{
 "cells": [
  {
   "cell_type": "code",
   "execution_count": null,
   "metadata": {
    "tags": []
   },
   "outputs": [],
   "source": [
    "import torch\n",
    "import torch.nn as nn\n",
    "from sklearn.metrics import accuracy_score \n",
    "import numpy as np"
   ]
  },
  {
   "cell_type": "code",
   "execution_count": null,
   "metadata": {
    "tags": []
   },
   "outputs": [],
   "source": [
    "import torch\n",
    "from torch.autograd import Variable\n",
    "\n",
    "# 一定要继承 nn.Module\n",
    "class TwoLayerNet(nn.Module):\n",
    "    def __init__(self, input_size, hidden_size, output_size):\n",
    "        super(TwoLayerNet, self).__init__()\n",
    "        self.twolayernet = nn.Sequential(\n",
    "            nn.Linear(input_size, hidden_size),\n",
    "            nn.Linear(hidden_size, output_size),\n",
    "            nn.Sigmoid()\n",
    "        )   \n",
    "\n",
    "    def forward(self, x):\n",
    "        y_pred = self.twolayernet(x)\n",
    "        return (y_pred)\n",
    "\n",
    "# M是样本数量，input_size是输入层大小， hidden_size是隐含层大小，output_size是输出层大小\n",
    "M, input_size, hidden_size, output_size = 100, 2, 2, 1\n",
    "\n",
    "# 生成随机数当作样本\n",
    "# x = Variable(torch.randn(M, input_size))\n",
    "# y = Variable(torch.randn(M, output_size))\n",
    "x = torch.rand(M, 2)\n",
    "y = torch.Tensor([[1] if (k[0]+k[1]>1 and k[1]-k[0]>0)or(k[1]-k[0]<1 and k[1]-k[0]<0)  else [0] for k in x])\n",
    "\n",
    "model = TwoLayerNet(input_size, hidden_size, output_size)\n",
    "\n",
    "# 定义损失函数\n",
    "loss_fn = nn.MSELoss(size_average=False)\n",
    "\n",
    "learning_rate = 1e-4\n",
    "EPOCH = 100000\n",
    "\n",
    "# 使用optim包来定义优化算法\n",
    "optimizer = torch.optim.SGD(model.parameters(), lr=learning_rate)\n",
    "\n",
    "for t in range(EPOCH):    \n",
    "    y_pred= model(x)\n",
    "    loss = loss_fn(y_pred, y)\n",
    "    if (t+1) % 500 == 0:\n",
    "        print(loss)\n",
    "    \n",
    "    optimizer.zero_grad()\n",
    "    loss.backward()\n",
    "    optimizer.step()\n"
   ]
  },
  {
   "cell_type": "code",
   "execution_count": null,
   "metadata": {},
   "outputs": [],
   "source": [
    "a=y_pred.detach().numpy()"
   ]
  },
  {
   "cell_type": "code",
   "execution_count": null,
   "metadata": {},
   "outputs": [],
   "source": [
    "a = a.squeeze(1)"
   ]
  },
  {
   "cell_type": "code",
   "execution_count": null,
   "metadata": {},
   "outputs": [],
   "source": [
    "list = []\n",
    "for i in a:\n",
    "    if i>0.5:\n",
    "        list.append(1)\n",
    "    else:\n",
    "        list.append(0)"
   ]
  },
  {
   "cell_type": "code",
   "execution_count": null,
   "metadata": {},
   "outputs": [],
   "source": [
    "pre = np.array(list)"
   ]
  },
  {
   "cell_type": "code",
   "execution_count": null,
   "metadata": {},
   "outputs": [],
   "source": [
    "(pre == y.detach().numpy().squeeze(1)).sum()"
   ]
  },
  {
   "cell_type": "code",
   "execution_count": null,
   "metadata": {},
   "outputs": [],
   "source": [
    "model.parameters"
   ]
  },
  {
   "cell_type": "code",
   "execution_count": null,
   "metadata": {},
   "outputs": [],
   "source": [
    "for parameters in model.parameters():\n",
    "    print(parameters)\n"
   ]
  },
  {
   "cell_type": "code",
   "execution_count": null,
   "metadata": {},
   "outputs": [],
   "source": [
    "x"
   ]
  },
  {
   "cell_type": "markdown",
   "metadata": {},
   "source": [
    "# self define"
   ]
  },
  {
   "cell_type": "code",
   "execution_count": null,
   "metadata": {},
   "outputs": [],
   "source": [
    "import torch\n",
    "import torch.nn as nn\n",
    "\n",
    "class Mask(nn.Module):\n",
    "    def __init__(self):\n",
    "        super(Mask, self).__init__()\n",
    "        self.weight = (torch.nn.Parameter(data=torch.Tensor(1, 1, 1, 1), requires_grad=True))\n",
    "\n",
    "        self.weight.data.uniform_(-1, 1)\n",
    "        print(self.weight.is_leaf)\n",
    "    def forward(self, x):\n",
    "        masked_wt = (self.weight.mul(1)).cuda()\n",
    "        return masked_wt\n",
    "\n",
    "\n",
    "class Model(nn.Module):\n",
    "    def __init__(self):\n",
    "        super(Model, self).__init__()\n",
    "        self.Mask = Mask()\n",
    "\n",
    "    def forward(self, x):\n",
    "        x = Mask(x)\n",
    "        return x\n",
    "\n",
    "\n",
    "model = Model()\n",
    "\n",
    "for name, param in model.named_parameters():\n",
    "    print(name, param)"
   ]
  }
 ],
 "metadata": {
  "kernelspec": {
   "display_name": "Python 3.8.5 64-bit (conda)",
   "name": "python385jvsc74a57bd009b947ba581bcc337bc7c28ed026ab68f0805dc98e756a19c45c9bd5e23e2d3d"
  },
  "language_info": {
   "codemirror_mode": {
    "name": "ipython",
    "version": 3
   },
   "file_extension": ".py",
   "mimetype": "text/x-python",
   "name": "python",
   "nbconvert_exporter": "python",
   "pygments_lexer": "ipython3",
   "version": "3.8.5"
  },
  "orig_nbformat": 2
 },
 "nbformat": 4,
 "nbformat_minor": 2
}