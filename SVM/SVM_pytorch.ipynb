{
 "cells": [
  {
   "cell_type": "code",
   "execution_count": 1,
   "metadata": {},
   "outputs": [],
   "source": [
    "%matplotlib inline"
   ]
  },
  {
   "cell_type": "code",
   "execution_count": 2,
   "metadata": {},
   "outputs": [],
   "source": [
    "import matplotlib.pyplot as plt\n",
    "import numpy as np\n",
    "import torch\n",
    "import torch.nn as nn\n",
    "import torch.optim as optim\n"
   ]
  },
  {
   "cell_type": "code",
   "execution_count": null,
   "metadata": {},
   "outputs": [],
   "source": []
  },
  {
   "cell_type": "code",
   "execution_count": 3,
   "metadata": {},
   "outputs": [],
   "source": [
    "def train(X, Y, model, args):\n",
    "    X = torch.FloatTensor(X)\n",
    "    Y = torch.FloatTensor(Y)\n",
    "    N = len(Y)\n",
    "\n",
    "    optimizer = optim.SGD(model.parameters(), lr=args.lr)\n",
    "\n",
    "    model.train()\n",
    "    for epoch in range(args.epoch):\n",
    "        perm = torch.randperm(N)\n",
    "        sum_loss = 0\n",
    "\n",
    "        for i in range(0, N, args.batchsize):\n",
    "            x = X[perm[i : i + args.batchsize]].to(args.device)\n",
    "            y = Y[perm[i : i + args.batchsize]].to(args.device)\n",
    "\n",
    "            optimizer.zero_grad()\n",
    "            output = model(x).squeeze()\n",
    "            weight = model.weight.squeeze()\n",
    "\n",
    "            loss = torch.mean(torch.clamp(1 - y * output, min=0))\n",
    "            loss += args.c * (weight.t() @ weight) / 2.0\n",
    "\n",
    "            loss.backward()\n",
    "            optimizer.step()\n",
    "\n",
    "            sum_loss += float(loss)\n",
    "\n",
    "        print(\"Epoch: {:4d}\\tloss: {}\".format(epoch, sum_loss / N))\n"
   ]
  }
 ],
 "metadata": {
  "kernelspec": {
   "display_name": "Python 3",
   "language": "python",
   "name": "python3"
  },
  "language_info": {
   "codemirror_mode": {
    "name": "ipython",
    "version": 3
   },
   "file_extension": ".py",
   "mimetype": "text/x-python",
   "name": "python",
   "nbconvert_exporter": "python",
   "pygments_lexer": "ipython3",
   "version": "3.8.5"
  }
 },
 "nbformat": 4,
 "nbformat_minor": 4
}
