{
 "metadata": {
  "language_info": {
   "codemirror_mode": {
    "name": "ipython",
    "version": 3
   },
   "file_extension": ".py",
   "mimetype": "text/x-python",
   "name": "python",
   "nbconvert_exporter": "python",
   "pygments_lexer": "ipython3",
   "version": "3.8.5"
  },
  "orig_nbformat": 2,
  "kernelspec": {
   "name": "python385jvsc74a57bd009b947ba581bcc337bc7c28ed026ab68f0805dc98e756a19c45c9bd5e23e2d3d",
   "display_name": "Python 3.8.5 64-bit ('anaconda3-2020.11': pyenv)"
  }
 },
 "nbformat": 4,
 "nbformat_minor": 2,
 "cells": [
  {
   "cell_type": "code",
   "execution_count": 1,
   "metadata": {},
   "outputs": [],
   "source": [
    "import matplotlib.pyplot as plt\n",
    "import numpy as np\n",
    "import torch\n",
    "import torch.nn as nn\n",
    "import torch.optim as optim\n",
    "import pandas as pd \n",
    "from torch.optim import SGD\n",
    "from torch.autograd import Variable\n",
    "from matplotlib.colors import ListedColormap\n",
    "%matplotlib inline\n"
   ]
  },
  {
   "cell_type": "code",
   "execution_count": 2,
   "metadata": {},
   "outputs": [],
   "source": [
    "path = os.getcwd()\n",
    "data = pd.read_csv(path+\"/spambase.csv\")\n",
    "def get_set(data,i):\n",
    "    N,L = data.shape\n",
    "    data = data.sample(frac=1).reset_index(drop=True)\n",
    "    x_train = data.iloc[:int(N*i),:-1].values.reshape(-1,L-1)\n",
    "    y_train = data.iloc[:int(N*i),-1].values.reshape(-1,1)\n",
    "    x_test = data.iloc[int(N*i):,:-1].values.reshape(-1,L-1)\n",
    "    y_test = data.iloc[int(N*i):,-1].values.reshape(-1,1)\n",
    "    return torch.from_numpy(x_train).float(),torch.from_numpy(x_test).float(),torch.from_numpy(y_train).float(),torch.from_numpy(y_test).float()\n",
    "train_x,test_x,train_y,test_y = get_set(data,0.7)"
   ]
  },
  {
   "cell_type": "code",
   "execution_count": 4,
   "metadata": {},
   "outputs": [
    {
     "output_type": "execute_result",
     "data": {
      "text/plain": [
       "torch.Size([1381, 1])"
      ]
     },
     "metadata": {},
     "execution_count": 4
    }
   ],
   "source": []
  },
  {
   "cell_type": "code",
   "execution_count": 5,
   "metadata": {},
   "outputs": [],
   "source": [
    "class Perceptron(nn.Module):\n",
    "    def __init__(self):\n",
    "        super(Perceptron, self).__init__()\n",
    "        self.layer = nn.Linear(57, 1)\n",
    "        \n",
    "    def forward(self, x):\n",
    "        x = self.layer(x)\n",
    "        return x"
   ]
  },
  {
   "cell_type": "code",
   "execution_count": 6,
   "metadata": {},
   "outputs": [],
   "source": [
    "def loss_func(scores, label, type=\"svm\"):\n",
    "    assert type==\"perceptron\" or type==\"svm\", \"loss type error\"\n",
    "    if type == \"perceptron\":\n",
    "        # 感知机损失函数，label取值集合为{-1, 1}\n",
    "        loss = -label*scores\n",
    "    else:\n",
    "        # SVM损失函数，label取值集合为{-1, 1}\n",
    "        loss = 1-label*scores\n",
    "   \n",
    "    loss[loss<=0] = 0\n",
    "    return torch.sum(loss)\n"
   ]
  },
  {
   "cell_type": "code",
   "execution_count": 7,
   "metadata": {},
   "outputs": [],
   "source": [
    "def sign(x):\n",
    "    x[x>=0] = 1\n",
    "    x[x<0] = -1\n",
    "    return x\n"
   ]
  },
  {
   "cell_type": "code",
   "execution_count": 8,
   "metadata": {},
   "outputs": [],
   "source": [
    "# 预测函数\n",
    "def pred(x):\n",
    "    return sign(x)\n"
   ]
  },
  {
   "cell_type": "code",
   "execution_count": 9,
   "metadata": {},
   "outputs": [
    {
     "output_type": "stream",
     "name": "stdout",
     "text": [
      "loss= 9239258.0 acc= 1300.0\n"
     ]
    }
   ],
   "source": [
    "model = Perceptron()\n",
    "optim_func = SGD(model.parameters(), lr=0.0001)\n",
    "#for name,param in model.named_parameters():\n",
    "#   print(name, param)\n",
    "\n",
    "for epoch in range(15):\n",
    "    inputs, targets = train_x, train_y\n",
    "    label = train_y\n",
    "    # 前向传播\n",
    "    scores = model(inputs).squeeze(1)\n",
    "    loss = loss_func(scores, label, \"svm\")\n",
    "    # 反向传播\n",
    "    optim_func.zero_grad()\n",
    "    loss.backward()\n",
    "    optim_func.step()\n",
    "\n",
    "\n",
    "    if epoch % 1000 == 0:\n",
    "        # 计算分类的准确率\n",
    "        inputs, targets = train_x,train_y \n",
    "        inputs = Variable(inputs, requires_grad=True)\n",
    "        label = Variable(targets.int(), requires_grad=False)\n",
    "        scores = model(inputs).squeeze(-1)\n",
    "        num_correct = (pred(scores) == label).sum().item()\n",
    "        acc = num_correct*1.0 / inputs.shape[0]\n",
    "        print(\"loss=\",loss.detach().numpy(),\"acc=\", acc)"
   ]
  },
  {
   "cell_type": "code",
   "execution_count": 22,
   "metadata": {},
   "outputs": [
    {
     "output_type": "execute_result",
     "data": {
      "text/plain": [
       "tensor([False, False, False,  ..., False, False, False])"
      ]
     },
     "metadata": {},
     "execution_count": 22
    }
   ],
   "source": []
  },
  {
   "cell_type": "code",
   "execution_count": 11,
   "metadata": {},
   "outputs": [
    {
     "output_type": "stream",
     "name": "stdout",
     "text": [
      "layer.weight Parameter containing:\ntensor([[ 41.5677,  81.9470, 115.7110,  26.3568, 124.5816,  39.3264,  49.8463,\n          43.6552,  37.7830,  93.7888,  26.0294, 226.2275,  38.3480,  22.0898,\n          20.6568,  93.7664,  59.3373,  76.4031, 674.4976,  38.3449, 334.6377,\n          11.7455,  40.5993,  35.9823, 204.8103, 104.4862,  91.0173,  48.4175,\n          39.0464,  41.3057,  23.8009,  18.4263,  38.5947,  18.8285,  40.7996,\n          36.7967,  56.3192,   4.7006,  27.8165,  26.8840,  17.3531,  55.8012,\n          19.1381,  31.3781, 115.9066,  62.8950,   2.0793,  12.7161,   9.3216,\n          54.9776,   6.9919, 107.6694,  31.6034,  15.5718, -16.2075,  -6.5957,\n          -1.6898]], requires_grad=True)\nlayer.bias Parameter containing:\ntensor([395.1791], requires_grad=True)\n"
     ]
    }
   ],
   "source": [
    "for name,param in model.named_parameters():\n",
    "    print(name, param)\n"
   ]
  },
  {
   "cell_type": "code",
   "execution_count": null,
   "metadata": {},
   "outputs": [],
   "source": []
  }
 ]
}