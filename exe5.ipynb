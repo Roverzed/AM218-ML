{
 "cells": [
  {
   "cell_type": "code",
   "execution_count": 21,
   "metadata": {},
   "outputs": [],
   "source": [
    "sandwich_orders = ['1','2','3','4','5','6','7','8','9']"
   ]
  },
  {
   "cell_type": "code",
   "execution_count": 22,
   "metadata": {},
   "outputs": [],
   "source": [
    "finished_sandwiches = []"
   ]
  },
  {
   "cell_type": "code",
   "execution_count": 23,
   "metadata": {},
   "outputs": [
    {
     "name": "stdout",
     "output_type": "stream",
     "text": [
      "I'm working on your1sanwich\n",
      "1 is made.\n",
      "I'm working on your3sanwich\n",
      "3 is made.\n",
      "I'm working on your5sanwich\n",
      "5 is made.\n",
      "I'm working on your7sanwich\n",
      "7 is made.\n",
      "I'm working on your9sanwich\n",
      "9 is made.\n"
     ]
    }
   ],
   "source": [
    "for i in sandwich_orders:\n",
    "    print(\"I'm working on your\"+ i +\"sanwich\")\n",
    "    print(i+\" is made.\")\n",
    "    sandwich_orders.remove(i) \n",
    "    finished_sandwiches.append(i)\n",
    "    if len(sandwich_orders)==0:\n",
    "        print(\"done\")"
   ]
  },
  {
   "cell_type": "code",
   "execution_count": null,
   "metadata": {},
   "outputs": [],
   "source": []
  }
 ],
 "metadata": {
  "kernelspec": {
   "display_name": "Python 3.7.0 64-bit ('anaconda3-5.3.1')",
   "name": "python370jvsc74a57bd022cbdd8659c8ce3000871c3febea23388912970a6baae5fd58def00b2403d874"
  },
  "language_info": {
   "name": "python",
   "version": ""
  },
  "orig_nbformat": 2
 },
 "nbformat": 4,
 "nbformat_minor": 2
}